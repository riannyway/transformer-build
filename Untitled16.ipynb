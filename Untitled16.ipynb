{
 "cells": [
  {
   "cell_type": "code",
   "execution_count": 5,
   "id": "9d086698",
   "metadata": {},
   "outputs": [
    {
     "name": "stdout",
     "output_type": "stream",
     "text": [
      "              AttendanceRate\n",
      "Student Code                \n",
      "1102317            92.307692\n",
      "1614629            78.571429\n",
      "1614634            90.909091\n",
      "1719066            63.636364\n",
      "1719071            64.285714\n",
      "...                      ...\n",
      "2365583            88.888889\n",
      "2365584            33.333333\n",
      "2365585            68.750000\n",
      "2365586           100.000000\n",
      "2365587            87.500000\n",
      "\n",
      "[741 rows x 1 columns]\n"
     ]
    }
   ],
   "source": [
    "import pandas as pd\n",
    "\n",
    "# 读取Excel文件\n",
    "attendance_data = pd.read_excel(r'D:\\Alldataset\\attendance111.xlsx')\n",
    "\n",
    "# 筛选出勤记录\n",
    "attendance_data['WasAbsent'] = attendance_data['Status'].str.contains('Absent', case=False, na=False)\n",
    "attendance_data['WasPresent'] = ~attendance_data['WasAbsent']\n",
    "\n",
    "# 计算每个学生的出勤次数\n",
    "attendance_counts = attendance_data.groupby('Student Code')['WasPresent'].sum()\n",
    "\n",
    "# 计算每个学生的总记录次数\n",
    "total_counts = attendance_data['Student Code'].value_counts()\n",
    "\n",
    "# 合并出勤次数和总记录次数\n",
    "attendance_summary = pd.DataFrame({'PresentCount': attendance_counts, 'TotalCount': total_counts})\n",
    "\n",
    "# 计算出勤率\n",
    "attendance_summary['AttendanceRate'] = attendance_summary['PresentCount'] / attendance_summary['TotalCount'] * 100\n",
    "\n",
    "# 打印出勤率\n",
    "print(attendance_summary[['AttendanceRate']])\n",
    "\n",
    "# 保存出勤率到新的Excel文件\n",
    "attendance_summary[['AttendanceRate']].to_excel(r'D:\\Alldataset\\attendance1111.xlsx')"
   ]
  },
  {
   "cell_type": "code",
   "execution_count": null,
   "id": "eb3e22b9",
   "metadata": {},
   "outputs": [],
   "source": []
  }
 ],
 "metadata": {
  "kernelspec": {
   "display_name": "Python 3 (ipykernel)",
   "language": "python",
   "name": "python3"
  },
  "language_info": {
   "codemirror_mode": {
    "name": "ipython",
    "version": 3
   },
   "file_extension": ".py",
   "mimetype": "text/x-python",
   "name": "python",
   "nbconvert_exporter": "python",
   "pygments_lexer": "ipython3",
   "version": "3.11.5"
  }
 },
 "nbformat": 4,
 "nbformat_minor": 5
}
